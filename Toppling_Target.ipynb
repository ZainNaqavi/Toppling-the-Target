{
 "cells": [
  {
   "cell_type": "markdown",
   "metadata": {},
   "source": [
    "# Topple the Target\n",
    "#### Zain Naqavi"
   ]
  },
  {
   "cell_type": "markdown",
   "metadata": {},
   "source": [
    "## Overview\n",
    "This code will create a game resembling 'Angry Birds' where the goal is to topple a target with a projectile by inputting the launch angle and velocity.\n",
    "\n",
    "The program will: \n",
    "* Calculate the path of the projectile.\n",
    "* Calculate the momentum and impulse transferred by the projectile to the target upon impact.\n",
    "* Calculate the torque on the target from the collision.\n",
    "* Determine if the target will topple if the restoring torque is less than the applied torque.\n",
    "\n",
    "The code consists of nested if and while structures which determine if a collision between the projectile and target has occured. If the condition of a collision is met, the code will determine whether the target will topple using the relevant calculations outlined below.\n",
    "\n",
    "The basic algorithm structure that the 'game' part of the code follows is outlined below: \n",
    "* Ask the user to input the angle and launch velocity of the projectile.\n",
    "* This will start the projectile animation until either the target or the ground is hit. \n",
    "* If the projectile missed the target, the game will restart. \n",
    "* If the projectile hit the target, the calculations of momentum, impulse and torque will be carried out to determine if the target will topple. \n",
    "* If the applied torque caused by the impact of the collision is not greater than the restoring torque of the target, the target will not topple and the game will restart. \n",
    "* If the applied torque is enough to cause the target to topple, the game will end. "
   ]
  },
  {
   "cell_type": "markdown",
   "metadata": {},
   "source": [
    "## Theory\n",
    "\n",
    "### Projectile motion\n",
    "\n",
    "The motion of the ball is modelled neglecting air resistance. Given the initial speed $v_0$ and the launch angle $\\theta$, the position and momentum of a projectile can be calculated.\n",
    "\n",
    "\n",
    "The position $\\mathbf{r}$ of the projectile at any time $t$ is given by:\n",
    "\n",
    "$$ r_x = x_0 + v_0 t \\cos\\theta $$\n",
    "$$ r_y = y_0 + v_0 t \\sin\\theta − \\frac{1}{2}g t^2 $$\n",
    "\n",
    "\n",
    "The momentum $\\mathbf{p}$ of the projectile is given by:\n",
    "\n",
    "$$ p_x = m v_0 \\cos\\theta $$\n",
    "$$ p_y = m v_0 \\sin\\theta − m g t $$\n",
    "\n",
    "### Collisions\n",
    "\n",
    "The collision between the ball and target is modelled as elastic and the ball is assumed to transfer all momentum to the target. The model assumes the center of mass of the target is at its geometric center and its center of rotation is at the bottom right.\n",
    "\n",
    "\n",
    "The restoring torque of the target is:\n",
    "\n",
    "$$ \\boldsymbol{\\tau}_{restoring} = \\mathbf{F}_{gravity} \\times \\mathbf{d}_r $$\n",
    "\n",
    "where $\\mathbf{F}_{gravity} = m \\mathbf{g}$ is the force due to gravity acting through the center of mass and $\\mathbf{d}_r$ is the horizontal distance  between the point of rotation (bottom right corner) and the centre of mass.\n",
    "\n",
    "\n",
    "The torque applied by the collision is:\n",
    "\n",
    "$$ \\boldsymbol{\\tau}_{applied} = \\mathbf{F}_{applied} \\times \\mathbf{d}_a $$\n",
    "\n",
    "where $\\mathbf{F}_{applied} = \\Delta\\mathbf{p} / \\Delta t$ is the force transferred during the finite impact time by the momentum of the ball on impact and $\\mathbf{d}_a$ is the vector from the point of rotation (bottom right-hand corner) to the point of impact.\n",
    "\n",
    "\n",
    "The target will topple if:\n",
    "\n",
    "$$|\\boldsymbol{\\tau}_{applied}| > |\\boldsymbol{\\tau}_{restoring}|$$"
   ]
  },
  {
   "cell_type": "markdown",
   "metadata": {},
   "source": [
    "## Code"
   ]
  },
  {
   "cell_type": "code",
   "execution_count": 1,
   "metadata": {},
   "outputs": [
    {
     "data": {
      "text/html": [
       "<div id=\"glowscript\" class=\"glowscript\"></div>"
      ],
      "text/plain": [
       "<IPython.core.display.HTML object>"
      ]
     },
     "metadata": {},
     "output_type": "display_data"
    },
    {
     "data": {
      "application/javascript": [
       "if (typeof Jupyter !== \"undefined\") { window.__context = { glowscript_container: $(\"#glowscript\").removeAttr(\"id\")};}else{ element.textContent = ' ';}"
      ],
      "text/plain": [
       "<IPython.core.display.Javascript object>"
      ]
     },
     "metadata": {},
     "output_type": "display_data"
    },
    {
     "data": {
      "text/html": [
       "<div id=\"glowscript\" class=\"glowscript\"></div>"
      ],
      "text/plain": [
       "<IPython.core.display.HTML object>"
      ]
     },
     "metadata": {},
     "output_type": "display_data"
    },
    {
     "data": {
      "application/javascript": [
       "if (typeof Jupyter !== \"undefined\") { window.__context = { glowscript_container: $(\"#glowscript\").removeAttr(\"id\")};}else{ element.textContent = ' ';}"
      ],
      "text/plain": [
       "<IPython.core.display.Javascript object>"
      ]
     },
     "metadata": {},
     "output_type": "display_data"
    },
    {
     "data": {
      "application/javascript": [
       "if (typeof Jupyter !== \"undefined\") {require.undef(\"nbextensions/vpython_libraries/glow.min\");}else{element.textContent = ' ';}"
      ],
      "text/plain": [
       "<IPython.core.display.Javascript object>"
      ]
     },
     "metadata": {},
     "output_type": "display_data"
    },
    {
     "data": {
      "application/javascript": [
       "if (typeof Jupyter !== \"undefined\") {require.undef(\"nbextensions/vpython_libraries/glowcomm\");}else{element.textContent = ' ';}"
      ],
      "text/plain": [
       "<IPython.core.display.Javascript object>"
      ]
     },
     "metadata": {},
     "output_type": "display_data"
    },
    {
     "data": {
      "application/javascript": [
       "if (typeof Jupyter !== \"undefined\") {require.undef(\"nbextensions/vpython_libraries/jquery-ui.custom.min\");}else{element.textContent = ' ';}"
      ],
      "text/plain": [
       "<IPython.core.display.Javascript object>"
      ]
     },
     "metadata": {},
     "output_type": "display_data"
    },
    {
     "data": {
      "application/javascript": [
       "if (typeof Jupyter !== \"undefined\") {require([\"nbextensions/vpython_libraries/glow.min\"], function(){console.log(\"GLOW LOADED\");});}else{element.textContent = ' ';}"
      ],
      "text/plain": [
       "<IPython.core.display.Javascript object>"
      ]
     },
     "metadata": {},
     "output_type": "display_data"
    },
    {
     "data": {
      "application/javascript": [
       "if (typeof Jupyter !== \"undefined\") {require([\"nbextensions/vpython_libraries/glowcomm\"], function(){console.log(\"GLOWCOMM LOADED\");});}else{element.textContent = ' ';}"
      ],
      "text/plain": [
       "<IPython.core.display.Javascript object>"
      ]
     },
     "metadata": {},
     "output_type": "display_data"
    },
    {
     "data": {
      "application/javascript": [
       "if (typeof Jupyter !== \"undefined\") {require([\"nbextensions/vpython_libraries/jquery-ui.custom.min\"], function(){console.log(\"JQUERY LOADED\");});}else{element.textContent = ' ';}"
      ],
      "text/plain": [
       "<IPython.core.display.Javascript object>"
      ]
     },
     "metadata": {},
     "output_type": "display_data"
    },
    {
     "name": "stdout",
     "output_type": "stream",
     "text": [
      "\n",
      "Attempt # 1\n",
      "Input the initial angle (in degrees) to launch ball: 80\n",
      "Input the initial speed (in metres/second) to launch ball: 5\n",
      "\n",
      "Try again.\n",
      "\n",
      "\n",
      "Attempt # 2\n",
      "Input the initial angle (in degrees) to launch ball: 60\n",
      "Input the initial speed (in metres/second) to launch ball: 10\n",
      "\n",
      "Try again.\n",
      "\n",
      "\n",
      "Attempt # 3\n",
      "Input the initial angle (in degrees) to launch ball: 10\n",
      "Input the initial speed (in metres/second) to launch ball: 30\n",
      "\n",
      "Collision!\n",
      "Height of impact: 1.11 m\n",
      "Momentum of ball on impact: 3.0 Ns\n",
      "Applied torque: 345 N\n",
      "Restoring torque: 245 N\n",
      "\n",
      "Well done! The target toppled.\n"
     ]
    }
   ],
   "source": [
    "import numpy as np\n",
    "from vpython import sphere, color, rate, canvas, vector, curve, label, box, cross, mag, random, arrow, text\n",
    "\n",
    "# Set up the scene\n",
    "scene = canvas(width = 640, height = 480, center = vector(8,5,0), range = 8)\n",
    "ground = curve(pos = [(0,0,0), (16,0,0)], color = color.green)\n",
    "\n",
    "dt = 0.001  # animation time step, s\n",
    "g = 9.81    # gravitational acceleration, m/s^2\n",
    "\n",
    "# Target initial conditions (mass, dimensions, position)\n",
    "m_t = 100                # mass of target, kg\n",
    "w_t = 0.5                # width of target, m\n",
    "h_t = 2.0                # height of target, m\n",
    "x0_t = 10*random() + 5   # initial target centre-of-mass x-coordinate (random value between 5m and 15m)\n",
    "y0_t = h_t / 2           # initial target centre-of-mass y-coordinate, m\n",
    "\n",
    "# Platform initial conditions \n",
    "h_p = random()   # height of platform (random value between 0m and 1m)\n",
    "x0_p = 0.0       # initial platform centre-of-mass x-coordinate, m\n",
    "y0_p = h_p / 2   # initial platform centre-of-mass y-coordinate, m\n",
    "\n",
    "# Ball initial conditions (position, angle, speed, momentum)\n",
    "m_b = 0.1    # mass of ball, kg\n",
    "r_b = 0.05   # radius of ball, m\n",
    "x0_b = 0.0   # initial ball x-coordinate, m\n",
    "y0_b = h_p   # initial ball y-coordinate, m\n",
    "\n",
    "# Set up objects\n",
    "target = box(pos = vector(x0_t,y0_t,0), length = w_t, height = h_t, width = 0.5, color = color.orange)\n",
    "platform = box(pos = vector(x0_p,y0_p,0), length = 1, height = h_p, width = 1, color = color.white)\n",
    "ball = sphere(pos = vector(x0_b,y0_b,0), radius = 0.3, color = color.red)\n",
    "momentum = arrow(pos = ball.pos, axis = vector(0,0,0), shaftwidth = 0.1, color = color.magenta)\n",
    "\n",
    "# labels\n",
    "l_attempt = label(pos = vector(1,-1,0))\n",
    "\n",
    "# Start game\n",
    "topple = False          # boolean variable for target topple\n",
    "attempt = 0             # initialise number of user attempts\n",
    "while topple == False:  # loop runs until the target is toppled\n",
    "    attempt +=1         # increase attempt number\n",
    "    \n",
    "    # user input\n",
    "    print(\"\\nAttempt #\", attempt)\n",
    "    dtheta_b = float(input(\"Input the initial angle (in degrees) to launch ball: \"))\n",
    "    theta_b = np.radians(dtheta_b)\n",
    "    v0_b = float(input(\"Input the initial speed (in metres/second) to launch ball: \"))\n",
    "    \n",
    "    # update label\n",
    "    l_attempt.text = 'Attempt #{0:d}\\nLaunch angle: {1:0.1f} deg\\nLaunch velocity: {2:0.1f} m/s^2'.format(attempt,dtheta_b,v0_b)\n",
    "    \n",
    "    # update ball initial conditions\n",
    "    x0_b = 0.0                       # initial ball x-coordinate, m\n",
    "    y0_b = h_p                       # initial ball y-coordinate, m (always launched from same height)\n",
    "    ball.pos = vector(x0_b,y0_b,0)   # initial position of ball\n",
    "    px_b = m_b*v0_b*np.cos(theta_b)  # initial ball momentum, Ns -in x-direction\n",
    "    py_b = m_b*v0_b*np.sin(theta_b)  # initial ball momentum, Ns -in y-direction\n",
    "    \n",
    "    # Start the projectile animation\n",
    "    t = 0                       # initial time, s\n",
    "    collision = False           # boolean variable for collision between ball and target\n",
    "    while collision == False:   # loop runs until a collision occurs\n",
    "        rate(1000)              # restricts animation to 1000 updates per second (since dt=0.001)\n",
    "        \n",
    "        if ball.pos.y-r_b > 0:  # position and momentum of ball only updated if ball is above ground\n",
    "            t = t+dt            # increment value of time to calculate new position and momentum\n",
    "    \n",
    "            # equations of motion of ball\n",
    "            ball.pos.x = x0_b + v0_b*t*np.cos(theta_b)               # new x-position of ball at time t\n",
    "            ball.pos.y = y0_b + v0_b*t*np.sin(theta_b) - 0.5*g*t**2  # new y-position of ball at time t\n",
    "            py_b = m_b*v0_b*np.sin(theta_b) - m_b*g*t                # new vertical momentum of ball at time t\n",
    "\n",
    "            # update arrow representing momentum of ball\n",
    "            momentum.pos = ball.pos\n",
    "            momentum.axis = vector(px_b,py_b,0)\n",
    "        \n",
    "            # check for collision in each iteration of while loop\n",
    "            if abs(ball.pos.x - target.pos.x) <= r_b + 0.5 * w_t and ball.pos.y - h_t <= r_b:\n",
    "                collision = True\n",
    "                h_c = ball.pos.y               # height of collision, m\n",
    "                p_c = vector(momentum.axis)    # momentum transferred in collision, Ns\n",
    "                momentum.axis = vector(0,0,0)  # remove vector representing momentum of ball\n",
    "                \n",
    "                if h_c < h_t:  # ball falls only if it does not collide at top of target\n",
    "                    \n",
    "                    # Start ball free-fall animation (since all momentum transferred to target)\n",
    "                    t=0\n",
    "                    while ball.pos.y-r_b > 0:  # loop runs until only if ball is above ground\n",
    "                        rate(1000)\n",
    "                        t = t+dt\n",
    "                        ball.pos.y = h_c - 0.5*g*t**2  # free-fall under gravity (no initial velocity)\n",
    "                        \n",
    "        else:\n",
    "            print(\"\\nTry again.\\n\")\n",
    "            break\n",
    "            \n",
    "    # Determine collision properties\n",
    "    if collision == True:\n",
    "        d_a = vector((ball.pos.x+r_b)-(x0_t+0.5*w_t),h_c,0)  # vector from the point of rotation to the point of impact on target, m\n",
    "        F = p_c/0.01                                         # force applied to target by ball, N (contact time is 0.01)\n",
    "        torque_a = cross(F,d_a)                              # applied torque on target, N (vector)\n",
    "        torque_r = m_t*g*w_t/2                               # restoring torque of target, N (magnitude) \n",
    "        \n",
    "        # check if target will topple\n",
    "        if mag(torque_a) > torque_r:\n",
    "            topple = True\n",
    "            \n",
    "            # Start the topple animation\n",
    "            dphi_t = 0.01           # change in angle in time dt (from w=dphi/dt)\n",
    "            phi_t = 0               # initial angular displacement, rad\n",
    "            while phi_t < np.pi/2:  # loop runs until the target has rotated pi/2 radians\n",
    "                rate(100)           # rate set to 100 since dphi = 0.01\n",
    "                phi_t=phi_t+dphi_t  # increment value of angle rotated\n",
    "                target.rotate(angle=-dphi_t, axis=vector(0,0,1), origin=vector(x0_t+w_t/2,0,0)) \n",
    "            \n",
    "            # win text for topple\n",
    "            text(pos=vector(8,5,0), text='Target Toppled!', align='center', color=color.yellow)\n",
    "            \n",
    "            # output collision properties\n",
    "            print('\\nCollision!\\nHeight of impact: {0:0.2f} m\\nMomentum of ball on impact: {1:0.1f} Ns\\nApplied torque: {2:0.0f} N\\nRestoring torque: {3:0.0f} N'.format(h_c,mag(p_c),mag(torque_a),torque_r))\n",
    "            print(\"\\nWell done! The target toppled.\")\n",
    "            \n",
    "        else:\n",
    "            # output collision properties\n",
    "            print('\\nCollision!\\nHeight of impact: {0:0.2f} m\\nMomentum of ball on impact: {1:0.1f} Ns\\nApplied torque: {2:0.0f} N\\nRestoring torque: {3:0.0f} N'.format(h_c,mag(p_c),mag(torque_a),torque_r))\n",
    "            print(\"\\nThe target did not topple. Try again.\\n\")"
   ]
  }
 ],
 "metadata": {
  "kernelspec": {
   "display_name": "Python 3",
   "language": "python",
   "name": "python3"
  },
  "language_info": {
   "codemirror_mode": {
    "name": "ipython",
    "version": 3
   },
   "file_extension": ".py",
   "mimetype": "text/x-python",
   "name": "python",
   "nbconvert_exporter": "python",
   "pygments_lexer": "ipython3",
   "version": "3.7.4"
  }
 },
 "nbformat": 4,
 "nbformat_minor": 2
}
